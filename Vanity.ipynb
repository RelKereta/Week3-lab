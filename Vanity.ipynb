{
 "cells": [
  {
   "cell_type": "code",
   "execution_count": null,
   "metadata": {},
   "outputs": [],
   "source": []
  },
  {
   "cell_type": "code",
   "execution_count": 21,
   "metadata": {},
   "outputs": [
    {
     "name": "stdout",
     "output_type": "stream",
     "text": [
      " vanity plate is not valid\n"
     ]
    }
   ],
   "source": [
    "Vanity = input(\"Enter your vanity plate: \")\n",
    "if 2 <= len(Vanity) <= 6:\n",
    "    result = True\n",
    "    if 'a' <= Vanity[0] <= 'z':\n",
    "        result = False\n",
    "    elif 'A' <= Vanity[0] <= 'Z':\n",
    "        result = True\n",
    "    elif '0' <= Vanity[0] <= '9':\n",
    "        result = False\n",
    "\n",
    "    for i in range(1, len(Vanity) - 1):\n",
    "        if '0' <= Vanity[i] <= '9' and not '0' <= Vanity[i - 1] <= '9':\n",
    "            result = False\n",
    "\n",
    "    if '0' <= Vanity[-1] <= '9':\n",
    "        result = True\n",
    "    if result == False:\n",
    "        print(Vanity + \" vanity plate is not valid\")\n",
    "    else:\n",
    "        print(Vanity + \"Vanity plate is valid.\")\n",
    "else:\n",
    "    print(\"Vanity plate must be between 2-6 characters\")"
   ]
  }
 ],
 "metadata": {
  "kernelspec": {
   "display_name": "Python 3",
   "language": "python",
   "name": "python3"
  },
  "language_info": {
   "codemirror_mode": {
    "name": "ipython",
    "version": 3
   },
   "file_extension": ".py",
   "mimetype": "text/x-python",
   "name": "python",
   "nbconvert_exporter": "python",
   "pygments_lexer": "ipython3",
   "version": "3.11.5"
  },
  "orig_nbformat": 4
 },
 "nbformat": 4,
 "nbformat_minor": 2
}
